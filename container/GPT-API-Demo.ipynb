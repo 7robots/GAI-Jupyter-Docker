{
 "cells": [
  {
   "attachments": {},
   "cell_type": "markdown",
   "metadata": {},
   "source": [
    "# 1. Getting Started - Load API Key to ChatGPT\n",
    "  \n",
    "* import python modules\n",
    "* load API key from env file\n",
    "* other environment variables could be set in this cell or in the env file\n",
    "* Note: This could be distributed as a Jupyter notebook to everyone in class to get started \n"
   ]
  },
  {
   "cell_type": "code",
   "execution_count": 14,
   "metadata": {
    "scrolled": true
   },
   "outputs": [
    {
     "name": "stdout",
     "output_type": "stream",
     "text": [
      "The dotenv extension is already loaded. To reload it, use:\n",
      "  %reload_ext dotenv\n"
     ]
    }
   ],
   "source": [
    "import openai\n",
    "import os\n",
    "\n",
    "%load_ext dotenv\n",
    "#%reload_ext dotenv\n",
    "%dotenv\n",
    "\n",
    "openai.api_key = os.environ.get(\"API_TOKEN\")\n"
   ]
  },
  {
   "attachments": {},
   "cell_type": "markdown",
   "metadata": {},
   "source": [
    "# 2. Basic Question/Prompt to GPT-3"
   ]
  },
  {
   "cell_type": "code",
   "execution_count": 25,
   "metadata": {
    "scrolled": true
   },
   "outputs": [
    {
     "name": "stdout",
     "output_type": "stream",
     "text": [
      "The major categories of geologic features on the moon are craters, mountains, rilles, lava plains, domes, basins, and scarps.\n"
     ]
    }
   ],
   "source": [
    "myprompt = \"What are the major categories of geologic features on the moon?\"\n",
    "\n",
    "response = openai.Completion.create(\n",
    "    engine=\"text-davinci-003\",\n",
    "    prompt=myprompt,\n",
    "    max_tokens=200,\n",
    "    n=1,\n",
    "    stop=None,\n",
    ")\n",
    "\n",
    "message = response.choices[0].text.strip()\n",
    "print(message)"
   ]
  },
  {
   "attachments": {},
   "cell_type": "markdown",
   "metadata": {
    "editable": true,
    "slideshow": {
     "slide_type": ""
    },
    "tags": []
   },
   "source": [
    "# 3. Same Question to GPT 3.5\n",
    "\n",
    "Note the change in syntax for GPT-3-.5\n",
    "More pythonic\n",
    "Able to change both role and voice programmatically"
   ]
  },
  {
   "cell_type": "code",
   "execution_count": 26,
   "metadata": {},
   "outputs": [
    {
     "name": "stdout",
     "output_type": "stream",
     "text": [
      "1. Maria (Seas): These are large, dark plains of basalt formed by ancient volcanic eruptions. They were named by early astronomers who mistook them for actual seas.\n",
      "\n",
      "2. Highlands: These are the light-colored regions of the Moon. The highlands are hilly and mountainous, heavily pockmarked with countless craters from meteor impacts.\n",
      "\n",
      "3. Craters: Moon's surface is heavily dotted with impact craters formed by meteorites. There are different types of craters such as ray craters, complex craters, and basin craters. \n",
      "\n",
      "4. Mountain Ranges: Similar to Earth, the Moon has several mountain ranges, many of which border the lunar maria.\n",
      "\n",
      "5. Rilles: These are channel-like depressions in the lunar surface that resemble valleys or trenches. Some are straight, others follow sine-like paths, and are thought to be the result of ancient lava flow tubes that have collapsed.\n",
      "\n",
      "6. Domes: Domes on the moon are thought to be formed by small regions of isolated volcanic activity.\n",
      "\n",
      "7. Basins: These are large, circular geological features that are typically created by impact craters or volcanic activity. The Moon has several basins like the Imbrium Basin, Oriental Basin, and South Pole-Aitken Basin.\n",
      "\n",
      "8. Lunar Swirls: These are enigmatic features found across the moon's surface, characterized by a high albedo, appearing optically immature (i.e., the optical characteristics of a relatively young regolith), and having a lower than average surface magnetic field. \n",
      "\n",
      "9. Rays: They are the linear bright streaks that radiate from some craters, caused by the ejecta thrown out from the craters on impact.\n",
      "\n",
      "10. Scarps: Scarps, or cliffs, are formed due to the contraction of the lunar surface.\n",
      "  \n",
      "These are just a few of the many interesting geological features found on the Moon's surface. All of them provide critical evidence of the Moon's origin and its geological history.\n"
     ]
    }
   ],
   "source": [
    "myprompt = \"What are the major categories of geologic features on the moon?\"\n",
    "\n",
    "completion = openai.ChatCompletion.create(\n",
    "  model=\"gpt-4\",\n",
    "  messages=[\n",
    "    {\"role\": \"user\", \"content\": myprompt}\n",
    "  ]\n",
    ")\n",
    "\n",
    "print(completion.choices[0].message.content)"
   ]
  },
  {
   "attachments": {},
   "cell_type": "markdown",
   "metadata": {},
   "source": [
    "# 4. You can change voice in the API the same way you do with the web interface."
   ]
  },
  {
   "cell_type": "code",
   "execution_count": 5,
   "metadata": {},
   "outputs": [
    {
     "name": "stdout",
     "output_type": "stream",
     "text": [
      "Good evening, class. Today, we will explore the remarkable geologic features that adorn the lunar landscape. Just like our own dynamic Earth, the Moon displays a diverse array of geological structures, albeit with some intriguing differences. Let us delve into the major categories of geologic features on our celestial neighbor.\n",
      "\n",
      "First and foremost, we have the impact craters, which dominate the lunar surface. These craters stem from the intense bombardment of meteoroids and asteroids over billions of years. Ranging from small bowl-shaped depressions to massive circular formations, lunar impact craters reveal crucial insights into the history of our solar system.\n",
      "\n",
      "Moving on, we encounter the maria, which are extensive dark plains scattered across the Moon's surface. Now, don't be fooled by the term \"plains;\" these regions are not flat at all! The maria formed through ancient volcanic eruptions, where molten basaltic lava flooded large areas, creating the relatively smooth, dark surfaces we observe today. These volcanic remnants provide evidence of the Moon's fiery past and offer a contrast to the heavily cratered highlands.\n",
      "\n",
      "Speaking of highlands, this brings us to our next category: the lunar highlands or terrae. These areas represent the Moon's older crust, densely cratered and composed mostly of ancient rocks. These crustal rocks offer a window into the earliest stages of our Moon's formation.\n",
      "\n",
      "Now, let us shift our focus to another class of lunar features known as rilles. Rilles are elongated depressions found on the Moon's surface, often resembling channels or trenches. They can be classified into two types: sinuous rilles and linear rilles. Sinuous rilles are believed to have formed due to ancient lava flows, whereas linear rilles are thought to be the result of tectonic activity or collapse along fault lines.\n",
      "\n",
      "Next, we have the mountainous regions known as lunar highlands massifs. These magnificent structures rise above the maria and highlands and are characterized by their rugged and irregular topography. The lunar massifs provide us with valuable insights into the forces that shaped the Moon's surface, possibly through a combination of tectonic activity and impact events.\n",
      "\n",
      "Our final major category of lunar features includes the regolith and ejecta blankets. The regolith comprises the loose, fragmented layer of dust and small rocks that covers the lunar surface. It is a result of the continuous pulverization of rocks due to the impacts it endures. Additionally, we have ejecta blankets surrounding impact craters. These blankets consist of material thrown out during an impact event, often forming distinctive patterns around the craters.\n",
      "\n",
      "So, class, to recap, the major categories of geologic features on the Moon are impact craters, maria, highlands, rilles, lunar highlands massifs, and the regolith/ejecta blankets. Each category represents a fascinating aspect of our lunar companion's complex geological history. Exploring these features provides a valuable window into understanding the Moon's formation, its volcanic past, and the extraordinary forces that have shaped our celestial neighbor.\n"
     ]
    }
   ],
   "source": [
    "myprompt = \"In the voice of a geology professor, what are the major categories of geologic features on the moon?\"\n",
    "\n",
    "completion = openai.ChatCompletion.create(\n",
    "  model=\"gpt-3.5-turbo\",\n",
    "  messages=[\n",
    "    {\"role\": \"user\", \"content\": myprompt}\n",
    "  ]\n",
    ")\n",
    "\n",
    "print(completion.choices[0].message.content)"
   ]
  },
  {
   "attachments": {},
   "cell_type": "markdown",
   "metadata": {},
   "source": [
    "# 4. Or you can use the system role to change the voice programmatically "
   ]
  },
  {
   "cell_type": "code",
   "execution_count": 6,
   "metadata": {},
   "outputs": [
    {
     "name": "stdout",
     "output_type": "stream",
     "text": [
      "The major categories of geologic features on the moon are:\n",
      "\n",
      "1. Maria (or seas): These are large, dark, smooth plains that cover about 16% of the moon's surface. Marias were formed by ancient volcanic lava flows.\n",
      "\n",
      "2. Highlands: These are the bright, rugged, and heavily cratered regions on the moon's surface. They make up about 83% of the lunar surface and are composed of ancient lunar crust.\n",
      "\n",
      "3. Craters: The moon's surface is densely covered with impact craters of varying sizes. These form when asteroids, comets, or meteoroids collide with the moon. They can range from small, bowl-shaped depressions to larger impact basins, such as the famous Imbrium and Serenitatis basins.\n",
      "\n",
      "4. Rilles: Rilles are long, narrow channels or depressions on the moon's surface. They resemble canyons or gorges and can be several kilometers wide and hundreds of kilometers in length. Rilles are thought to have formed from ancient volcanic activity or from the collapse of lava tubes.\n",
      "\n",
      "5. Faults: The moon has several fault lines, which are fractures or breaks in the lunar crust. These can be caused by tectonic forces or the cooling and contraction of the moon's interior. Lunar faults can be quite long and some are associated with the presence of cliffs or scarps.\n",
      "\n",
      "6. Wrinkle Ridges: These are linear, elevated features that can be several kilometers long and up to a few hundred meters high. Wrinkle ridges form as a result of compressional forces acting on the moon's crust. They are often found near impact basins or mare/highland boundaries.\n",
      "\n",
      "7. Regolith: The moon's surface is covered with a layer of loose, fragmented material called regolith. It is composed of fine dust, small rocks, and larger boulders. The regolith is the result of billions of years of impact cratering and the breakdown of volcanic rocks.\n",
      "\n",
      "8. Lunar Swirls: These are bright, sinuous patterns found on the moon's surface, often associated with magnetic anomalies. The origin of lunar swirls is not yet fully understood, but they are thought to be related to variations in the moon's magnetic field and the interaction with solar winds.\n",
      "\n",
      "These are some of the major categories of geologic features on the moon. The study of these features helps scientists understand the moon's formation, history, and geological processes.\n"
     ]
    }
   ],
   "source": [
    "myprompt = \"What are the major categories of geologic features on the moon?\"\n",
    "\n",
    "completion = openai.ChatCompletion.create(\n",
    "  model=\"gpt-3.5-turbo\",\n",
    "  messages=[\n",
    " {\"role\": \"system\", \"content\" : \"You are a geology professor\"},\n",
    " {\"role\": \"user\", \"content\": myprompt}\n",
    "  ]\n",
    ")\n",
    "\n",
    "print(completion.choices[0].message.content)"
   ]
  },
  {
   "attachments": {},
   "cell_type": "markdown",
   "metadata": {},
   "source": [
    "# 6. You can uploading a file and ask ChatGPT questions about the contents"
   ]
  },
  {
   "cell_type": "code",
   "execution_count": 7,
   "metadata": {},
   "outputs": [
    {
     "name": "stdout",
     "output_type": "stream",
     "text": [
      "The attendees of this meeting are: \n",
      "1. Jefferson Burson\n",
      "2. Dave LaPorte\n",
      "3. Ventz Petkov\n",
      "4. Chris Stubbs\n",
      "5. Logan McCarty\n",
      "6. Gregory Kestin\n",
      "7. Tamara Brenner\n",
      "8. Adam Beaver\n",
      "9. David Malan\n"
     ]
    }
   ],
   "source": [
    "myprompt = \"Who is attending this meeting?\"\n",
    "\n",
    "with open('meeting.txt', 'r') as file:\n",
    "    myfile = file.read().replace('\\n', '')\n",
    "\n",
    "completion = openai.ChatCompletion.create(\n",
    "  model=\"gpt-3.5-turbo\",\n",
    "  messages=[\n",
    " {\"role\": \"system\", \"content\" : \"You are a helpful assistant\"},\n",
    " {\"role\": \"assistant\", \"content\" : myfile},\n",
    " {\"role\": \"user\", \"content\" : myprompt},\n",
    "  ]\n",
    ")\n",
    "print(completion.choices[0].message.content)"
   ]
  },
  {
   "cell_type": "code",
   "execution_count": 8,
   "metadata": {},
   "outputs": [
    {
     "name": "stdout",
     "output_type": "stream",
     "text": [
      "During the meeting, the attendees discussed the potential use of generative AI in the classroom. They explored various applications and benefits of incorporating this technology in education. The attendees, including Jefferson Burson, Dave LaPorte, Ventz Petkov, Chris Stubbs, Logan McCarty, Gregory Kestin, Tamara Brenner, Adam Beaver, and David Malan, engaged in a fruitful discussion on this topic. They explored how generative AI could enhance student creativity, aid in problem-solving, and facilitate personalized learning experiences. Additionally, concerns and considerations regarding privacy, ethics, and student engagement with AI-powered tools were addressed. Overall, the meeting aimed to gather ideas and perspectives on effectively utilizing generative AI for educational purposes.\n"
     ]
    }
   ],
   "source": [
    "myprompt = \"Summarize the meeting\"\n",
    "\n",
    "with open('meeting.txt', 'r') as file:\n",
    "    myfile = file.read().replace('\\n', '')\n",
    "\n",
    "completion = openai.ChatCompletion.create(\n",
    "  model=\"gpt-3.5-turbo\",\n",
    "  messages=[\n",
    " {\"role\": \"system\", \"content\" : \"You are a helpful assistant\"},\n",
    " {\"role\": \"assistant\", \"content\" : myfile},\n",
    " {\"role\": \"user\", \"content\" : myprompt},\n",
    "  ]\n",
    ")\n",
    "print(completion.choices[0].message.content)"
   ]
  },
  {
   "attachments": {},
   "cell_type": "markdown",
   "metadata": {},
   "source": [
    "### Notice how GPT started hallucinating in this reply\n",
    "\n",
    "### what if we dial down the temperature?"
   ]
  },
  {
   "cell_type": "code",
   "execution_count": 9,
   "metadata": {},
   "outputs": [
    {
     "name": "stdout",
     "output_type": "stream",
     "text": [
      "During the meeting, the attendees discussed the use of Generative AI in the classroom. They explored various aspects such as its potential benefits, challenges, and ethical considerations. The participants shared their experiences and insights on how Generative AI can enhance student learning and creativity. They also discussed the importance of providing clear guidelines and safeguards to ensure responsible use of this technology. Overall, the meeting aimed to gather ideas and perspectives on integrating Generative AI into educational settings.\n"
     ]
    }
   ],
   "source": [
    "myprompt = \"Summarize the meeting\"\n",
    "\n",
    "with open('meeting.txt', 'r') as file:\n",
    "    myfile = file.read().replace('\\n', '')\n",
    "\n",
    "completion = openai.ChatCompletion.create(\n",
    "  model=\"gpt-3.5-turbo\",\n",
    "  temperature=0.1,\n",
    "  messages=[\n",
    " {\"role\": \"system\", \"content\" : \"You are a helpful assistant\"},\n",
    " {\"role\": \"assistant\", \"content\" : myfile},\n",
    " {\"role\": \"user\", \"content\" : myprompt},\n",
    "  ]\n",
    ")\n",
    "print(completion.choices[0].message.content)"
   ]
  },
  {
   "attachments": {},
   "cell_type": "markdown",
   "metadata": {},
   "source": [
    "## what if we change the voice?"
   ]
  },
  {
   "cell_type": "code",
   "execution_count": 10,
   "metadata": {},
   "outputs": [
    {
     "name": "stdout",
     "output_type": "stream",
     "text": [
      "The meeting focused on exploring the use of Generative AI in the classroom. Attendees, including Jefferson Burson, Dave LaPorte, Ventz Petkov, Chris Stubbs, Logan McCarty, Gregory Kestin, Tamara Brenner, Adam Beaver, and David Malan, discussed various aspects and potential applications of this technology. The meeting served as an opportunity to gather insights and ideas on how Generative AI can enhance the learning experience for students.\n"
     ]
    }
   ],
   "source": [
    "myprompt = \"Summarize the meeting\"\n",
    "\n",
    "with open('meeting.txt', 'r') as file:\n",
    "    myfile = file.read().replace('\\n', '')\n",
    "\n",
    "completion = openai.ChatCompletion.create(\n",
    "  model=\"gpt-3.5-turbo\",\n",
    "  messages=[\n",
    " {\"role\": \"system\", \"content\" : \"You are a laconic assistant\"},\n",
    " {\"role\": \"assistant\", \"content\" : myfile},\n",
    " {\"role\": \"user\", \"content\" : myprompt},\n",
    "  ]\n",
    ")\n",
    "print(completion.choices[0].message.content)"
   ]
  },
  {
   "attachments": {},
   "cell_type": "markdown",
   "metadata": {},
   "source": [
    "# 7. You can also have ChatGPT summarize a public web page (sort of)"
   ]
  },
  {
   "cell_type": "code",
   "execution_count": 22,
   "metadata": {},
   "outputs": [
    {
     "name": "stdout",
     "output_type": "stream",
     "text": [
      "I'm sorry, but I was unable to access the content of the link you provided. Can you provide some information about the context or content, so I can assist you better?\n"
     ]
    }
   ],
   "source": [
    "myprompt = \"TLDR https://www.7robots.org/2023/06/21/self-which-sometimes.html\"\n",
    "\n",
    "completion = openai.ChatCompletion.create(\n",
    "  model=\"gpt-4\",\n",
    "  messages=[\n",
    " {\"role\": \"system\", \"content\" : \"You are a helpful assistant\"},\n",
    " {\"role\": \"user\", \"content\": myprompt}\n",
    "  ]\n",
    ")\n",
    "\n",
    "print(completion.choices[0].message.content)"
   ]
  },
  {
   "attachments": {},
   "cell_type": "markdown",
   "metadata": {},
   "source": [
    "ChatGPT's summarization features are hit or miss and will sometimes drag in extraneous info it learned else where or will outright hallucinate added content"
   ]
  },
  {
   "attachments": {},
   "cell_type": "markdown",
   "metadata": {},
   "source": [
    "# 8. ChatGPT can do basic operations against a CSV provided via API (sort of)"
   ]
  },
  {
   "cell_type": "code",
   "execution_count": 24,
   "metadata": {},
   "outputs": [
    {
     "name": "stdout",
     "output_type": "stream",
     "text": [
      "The crater with the fourth largest diameter is Lorentz with a diameter of 378.42.\n"
     ]
    }
   ],
   "source": [
    "myprompt = \"From the data that has been provided to you, which crater has the fourth largest diameter?\"\n",
    "\n",
    "with open('Craters.csv', 'r') as file:\n",
    "    mystory = file.read().replace('\\n', '')\n",
    "\n",
    "completion = openai.ChatCompletion.create(\n",
    "  model=\"gpt-4\",\n",
    "  messages=[\n",
    " {\"role\": \"system\", \"content\" : \"You are a helpful assistant\"},\n",
    " {\"role\": \"assistant\", \"content\" : mystory},\n",
    " {\"role\": \"user\", \"content\" : myprompt},\n",
    "  ]\n",
    ")\n",
    "print(completion.choices[0].message.content)"
   ]
  },
  {
   "attachments": {},
   "cell_type": "markdown",
   "metadata": {},
   "source": [
    "Note that this is an incorrect answer. Although it accurately identified Lorentz as the fourth largest crater in this CSV, it provided the diameter value of Hertzsprung instead - the largest crater in this CSV"
   ]
  },
  {
   "cell_type": "code",
   "execution_count": 13,
   "metadata": {},
   "outputs": [
    {
     "name": "stdout",
     "output_type": "stream",
     "text": [
      "The diameter of Lorentz is 536.37 kilometers.\n"
     ]
    }
   ],
   "source": [
    "myprompt = \"From the data that has been provided to you, What is the diameter of Lorentz?\"\n",
    "\n",
    "with open('Craters.csv', 'r') as file:\n",
    "    mystory = file.read().replace('\\n', '')\n",
    "\n",
    "completion = openai.ChatCompletion.create(\n",
    "  model=\"gpt-3.5-turbo\",\n",
    "  messages=[\n",
    " {\"role\": \"system\", \"content\" : \"You are a helpful assistant\"},\n",
    " {\"role\": \"assistant\", \"content\" : mystory},\n",
    " {\"role\": \"user\", \"content\" : myprompt},\n",
    "  ]\n",
    ")\n",
    "print(completion.choices[0].message.content)"
   ]
  },
  {
   "cell_type": "code",
   "execution_count": null,
   "metadata": {
    "editable": true,
    "slideshow": {
     "slide_type": ""
    },
    "tags": []
   },
   "outputs": [],
   "source": []
  }
 ],
 "metadata": {
  "kernelspec": {
   "display_name": "Python 3 (ipykernel)",
   "language": "python",
   "name": "python3"
  },
  "language_info": {
   "codemirror_mode": {
    "name": "ipython",
    "version": 3
   },
   "file_extension": ".py",
   "mimetype": "text/x-python",
   "name": "python",
   "nbconvert_exporter": "python",
   "pygments_lexer": "ipython3",
   "version": "3.11.4"
  }
 },
 "nbformat": 4,
 "nbformat_minor": 4
}
